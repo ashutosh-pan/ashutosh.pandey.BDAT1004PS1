{
 "cells": [
  {
   "cell_type": "markdown",
   "id": "5ce3ff68",
   "metadata": {
    "slideshow": {
     "slide_type": "-"
    }
   },
   "source": [
    "# Question1"
   ]
  },
  {
   "cell_type": "code",
   "execution_count": 1,
   "id": "b9bb603f",
   "metadata": {},
   "outputs": [
    {
     "name": "stdout",
     "output_type": "stream",
     "text": [
      "<class 'int'>\n",
      "<class 'float'>\n",
      "<class 'bool'> True\n",
      "<class 'str'>\n",
      "<class 'int'> 10\n",
      "<class 'str'> 55\n",
      "<class 'str'> 52\n",
      "<class 'float'> 2.5\n",
      "<class 'int'> 1\n",
      "<class 'set'>\n",
      "<class 'bool'> False\n",
      "<class 'float'>\n"
     ]
    }
   ],
   "source": [
    "print(type(5))\n",
    "print(type(5.0))\n",
    "print(type(5>1), 5>1)\n",
    "print(type('5'))\n",
    "print(type(5*2), 5*2)\n",
    "print(type('5'*2), '5'*2)\n",
    "print(type('5'+'2'), '5'+'2')\n",
    "print(type(5/2), 5/2)\n",
    "print(type(5%2), 5%2)\n",
    "print(type({5,2,1}))\n",
    "print(type(5 == 3), 5 == 3)\n",
    "print(type(3.14))"
   ]
  },
  {
   "cell_type": "markdown",
   "id": "4e780c76",
   "metadata": {},
   "source": [
    "# Question2 "
   ]
  },
  {
   "cell_type": "code",
   "execution_count": 2,
   "id": "a3200891",
   "metadata": {},
   "outputs": [
    {
     "name": "stdout",
     "output_type": "stream",
     "text": [
      "34\n",
      "True\n",
      "Supercalifragilisticexpialidocious = Honorificabilitudinitatibus > Bababadalgharaghtakamminarronnkonn\n",
      "First composer: Bartok \n",
      "Last composer: Buxtehude\n"
     ]
    }
   ],
   "source": [
    "word1 = 'Supercalifragilisticexpialidocious'\n",
    "\n",
    "#using len function to find the length of string\n",
    "print(len(word1)) \n",
    "\n",
    "print('ice' in word1)\n",
    "\n",
    "word2 = 'Honorificabilitudinitatibus'\n",
    "word3 = 'Bababadalgharaghtakamminarronnkonn'\n",
    "\n",
    "# Calculating length of every word and storing it into variable\n",
    "l1 = len(word1)\n",
    "l2 = len(word2)\n",
    "l3 = len(word3)\n",
    "\n",
    "# checking relation (equal or greater than or less than) between all 3 string using if and else statements \n",
    "if(l1 == l2):\n",
    "    if(l1 == l3):\n",
    "        print(\"{} = {} = {} \".format(word1, word2, word3))\n",
    "    elif(l1 > l3):\n",
    "        print(\"{} = {} > {} \".format(word1,word2,word3))\n",
    "    else:\n",
    "        print(\"{} is larger: \".format(word3))\n",
    "elif (l1 > l2):\n",
    "    if(l1 == l3):\n",
    "        print(\"{} = {} > {}\" .format(word1,word2,word3))\n",
    "    elif(l1 > l3):\n",
    "        print(\"{} is larger \".format(word1))\n",
    "    else:\n",
    "        print(\"{} is larger: \".format(word3))\n",
    "else:\n",
    "    if(l2 == l3):\n",
    "        print(\"{} < {} = {} \".format(word1,word2,word3))\n",
    "    elif(l2 > l3):\n",
    "        print(\"{} is larger: \".format(word2))\n",
    "    else:\n",
    "        print(\"{} is larger: \".format(word3))\n",
    "\n",
    "lst = ['Berlioz', 'Borodin', 'Brian', 'Bartok', 'Bellini', 'Buxtehude', 'Bernstein']\n",
    "\n",
    "#sort function on list to sort in accending order\n",
    "lst.sort()\n",
    "print(\"First composer: {} \\nLast composer: {}\" .format(lst[0],lst[6]))\n"
   ]
  },
  {
   "cell_type": "markdown",
   "id": "784f862c",
   "metadata": {},
   "source": [
    "# Question3"
   ]
  },
  {
   "cell_type": "code",
   "execution_count": 1,
   "id": "07284c5c",
   "metadata": {},
   "outputs": [
    {
     "name": "stdout",
     "output_type": "stream",
     "text": [
      "1.7320508075688772\n"
     ]
    }
   ],
   "source": [
    "import math\n",
    "def triangleArea(a,b,c):\n",
    "    \n",
    "    # calculating S as per formular\n",
    "    s = (a+b+c)/2    \n",
    "    \n",
    "    #calculating area of triangle as per formulae mentioned\n",
    "    area = math.sqrt(s*(s-a)*(s-b)*(s-c))     \n",
    "    return area\n",
    "\n",
    "ar = triangleArea(2,2,2)\n",
    "print(ar)"
   ]
  },
  {
   "cell_type": "markdown",
   "id": "08eb9192",
   "metadata": {},
   "source": [
    "# Question4"
   ]
  },
  {
   "cell_type": "code",
   "execution_count": 1,
   "id": "b86141b1",
   "metadata": {},
   "outputs": [
    {
     "name": "stdout",
     "output_type": "stream",
     "text": [
      "Input the number of elements to be stored in array: 5\n",
      "Input 5 elements in array: \n",
      "element - 0 : 25\n",
      "element - 1 : 47\n",
      "element - 2 : 42\n",
      "element - 3 : 56\n",
      "element - 4 : 32\n",
      "The Even elements are:  [42, 56, 32]\n",
      "The Odd elements are:  [25, 47]\n"
     ]
    }
   ],
   "source": [
    "lst = []\n",
    "\n",
    "#taking input and converting it into integer\n",
    "num = int(input(\"Input the number of elements to be stored in array: \"))\n",
    "print(\"Input {} elements in array: \".format(num))\n",
    "for i in range(num):\n",
    "    x = int(input(\"element - {} : \".format(i)))\n",
    "    lst.append(x)\n",
    "even = []\n",
    "odd = []\n",
    "for i in lst:\n",
    "    if(i%2 == 0):\n",
    "        even.append(i)\n",
    "    else:\n",
    "        odd.append(i)\n",
    "print('The Even elements are: ',even)\n",
    "print('The Odd elements are: ',odd)\n"
   ]
  },
  {
   "cell_type": "markdown",
   "id": "037eb2f0",
   "metadata": {},
   "source": [
    "# Question5 "
   ]
  },
  {
   "cell_type": "code",
   "execution_count": 9,
   "id": "28279dbb",
   "metadata": {},
   "outputs": [
    {
     "name": "stdout",
     "output_type": "stream",
     "text": [
      "True\n",
      "False\n",
      "False\n",
      "True\n"
     ]
    }
   ],
   "source": [
    "def inside(x,y,x1,y1,x2,y2):\n",
    "    \n",
    "    #checking if input coordinate is greater than equal to first coordinate and less than equal to second cordinate\n",
    "    if(y >= y1 and y <= y2 and x >= x1 and x <= x2):\n",
    "        return True\n",
    "    else:\n",
    "        return False\n",
    "print(inside(1,1,0,0,2,3))\n",
    "print(inside(-1,-1,0,0,2,3))\n",
    "print(inside(1,1,0.3,0.5,1.1,0.7))\n",
    "print(inside(1,1,0.5,0.2,1.1,2))"
   ]
  },
  {
   "cell_type": "markdown",
   "id": "c448b475",
   "metadata": {},
   "source": [
    "# Question6"
   ]
  },
  {
   "cell_type": "code",
   "execution_count": 2,
   "id": "0798754e",
   "metadata": {},
   "outputs": [
    {
     "name": "stdout",
     "output_type": "stream",
     "text": [
      "appyhay\n",
      "enterway\n"
     ]
    }
   ],
   "source": [
    "def pig(word):\n",
    "    lst = ['a','e','i','o','u','A','E','I','O','U']   #storing all vowels into a list \n",
    "    if(word[0] in lst):                               #checking if first letter of word is vowel \n",
    "        l_case = word.lower()                         #if True than converting the sting in lower and adding 'way' in end\n",
    "        print(l_case+'way')\n",
    "    else:\n",
    "        l_case = word.lower()                        \n",
    "        remov = word.strip(word[0])                   #if consonant, striping first char of word\n",
    "        length = len(remov)\n",
    "        remov = remov[:length] + word[0].lower()      #adding stipped word to last of string and adding 'ay'\n",
    "        print(remov+'ay')\n",
    "pig('happy')\n",
    "pig('Enter')"
   ]
  },
  {
   "cell_type": "markdown",
   "id": "2505e124",
   "metadata": {},
   "source": [
    "# Question7"
   ]
  },
  {
   "cell_type": "code",
   "execution_count": 11,
   "id": "36eb6a75",
   "metadata": {},
   "outputs": [
    {
     "name": "stdout",
     "output_type": "stream",
     "text": [
      "There are 15 patients of blood type A. \n",
      "There are 1 patients of blood type B. \n",
      "There are 13 patients of blood type AB. \n",
      "There are 15 patients of blood type O. \n",
      "There are 0 patients of blood type OO. \n"
     ]
    }
   ],
   "source": [
    "infile = open('bloodtype1.txt', 'r')\n",
    "\n",
    "#using split funtion to convert every element of list\n",
    "lst = infile.read().split()\n",
    "\n",
    "#to count the occurance \n",
    "s1=0\n",
    "s2=0\n",
    "s3=0\n",
    "s4=0\n",
    "s5=0\n",
    "for char in lst:\n",
    "    if(char == 'A'):\n",
    "        s1+=1\n",
    "    elif(char =='B'):\n",
    "        s2+=1\n",
    "    elif(char =='AB'):\n",
    "        s3+=1\n",
    "    elif(char =='O'):\n",
    "        s4+=1\n",
    "    elif(char =='OO'):\n",
    "        s5+=1\n",
    "\n",
    "print(\"There are {} patients of blood type A. \".format(s1))\n",
    "print(\"There are {} patients of blood type B. \".format(s2))\n",
    "print(\"There are {} patients of blood type AB. \".format(s3))\n",
    "print(\"There are {} patients of blood type O. \".format(s4))\n",
    "print(\"There are {} patients of blood type OO. \".format(s5))\n",
    "\n",
    "infile.close()"
   ]
  },
  {
   "cell_type": "markdown",
   "id": "38e8269e",
   "metadata": {},
   "source": [
    "# Question8"
   ]
  },
  {
   "cell_type": "code",
   "execution_count": 2,
   "id": "19ff3b9f",
   "metadata": {},
   "outputs": [
    {
     "name": "stdout",
     "output_type": "stream",
     "text": [
      "122.96544\n",
      "1.241401\n"
     ]
    }
   ],
   "source": [
    "def curconv(currency, amount):\n",
    "    infile = open('currencies.txt', 'r')\n",
    "    \n",
    "    flag = 0\n",
    "    for each_line in infile.readlines():  #converting every line into list\n",
    "        for each_word in each_line.split(): #converting evry word in list\n",
    "            if(each_word == currency):\n",
    "                flag = 1\n",
    "                continue\n",
    "            elif(flag == 1):\n",
    "                convertion = float(each_word)*amount\n",
    "                return convertion\n",
    "\n",
    "    infile.close()\n",
    "\n",
    "amt = curconv('EUR', 100)\n",
    "print(amt)\n",
    "amt = curconv('JPY', 100)\n",
    "print(amt)"
   ]
  },
  {
   "cell_type": "markdown",
   "id": "ce691ddb",
   "metadata": {},
   "source": [
    "# Question9"
   ]
  },
  {
   "cell_type": "markdown",
   "id": "cb8b4c78",
   "metadata": {},
   "source": [
    "QUESTION: Trying to add incompatible variables, as in adding 6 + ‘a’\n",
    "ANSWER: TypeError\n",
    "\n",
    "QUESTION: Referring to the 12th item of a list that has only 10 items\n",
    "ANSWER: IndexError\n",
    "\n",
    "QUESTION: Using a value that is out of range for a function’s input, such as calling math.sqrt(-1.0)\n",
    "ANSWER: RangeError\n",
    "\n",
    "QUESTION: Using an undeclared variable, such as print(x) when x has not been defined \n",
    "ANSWER: NameError\n",
    "\n",
    "QUESTION: Trying to open a file that does not exist, such as mistyping the file name or looking in the wrong directory.\n",
    "ANSWER: FileNotFoundError"
   ]
  },
  {
   "cell_type": "code",
   "execution_count": 3,
   "id": "999c517e",
   "metadata": {
    "scrolled": true
   },
   "outputs": [
    {
     "name": "stdout",
     "output_type": "stream",
     "text": [
      "[1, 1, 1, 3, 5, 1, 1, 2, 1, 0, 1, 0, 1, 2, 4, 0, 1, 2, 0, 2, 1, 0, 1, 1, 0, 0]\n",
      "[1, 0, 0, 0, 1, 0, 0, 0, 0, 0, 0, 1, 0, 0, 0, 2, 0, 0, 0, 0, 0, 0, 0, 0, 0, 0]\n"
     ]
    }
   ],
   "source": [
    "def frequencies(str):\n",
    "    letters = 'abcdefghijklmnopqrstuvwxyz'\n",
    "    lst = []\n",
    "    \n",
    "    # converting the string to list \n",
    "    for char in letters:\n",
    "        lst.append(char)\n",
    "        \n",
    "    #initialising size of number list by 26\n",
    "    num_list = [0]*26\n",
    "    \n",
    "    #reading the input string and keeping it in list for a match\n",
    "    for line in str:\n",
    "        for word in line.split():\n",
    "            \n",
    "            if(word in lst):\n",
    "                #finding index of match and increasing the value by 1 in number list \n",
    "                ind = lst.index(word)\n",
    "                num_list[ind] = num_list[ind] + 1\n",
    "    \n",
    "    return num_list\n",
    "\n",
    "ans = frequencies('The quick red fox got bored and went home.')\n",
    "print(ans)\n",
    "ans = frequencies('apple')\n",
    "print(ans)"
   ]
  }
 ],
 "metadata": {
  "kernelspec": {
   "display_name": "Python 3 (ipykernel)",
   "language": "python",
   "name": "python3"
  },
  "language_info": {
   "codemirror_mode": {
    "name": "ipython",
    "version": 3
   },
   "file_extension": ".py",
   "mimetype": "text/x-python",
   "name": "python",
   "nbconvert_exporter": "python",
   "pygments_lexer": "ipython3",
   "version": "3.9.13"
  }
 },
 "nbformat": 4,
 "nbformat_minor": 5
}
